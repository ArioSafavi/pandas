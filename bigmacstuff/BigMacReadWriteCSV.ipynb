{
 "cells": [
  {
   "attachments": {},
   "cell_type": "markdown",
   "metadata": {},
   "source": [
    "# Big Mac CSV Activities\n",
    "I have provided you with a very small amount of the original big mac data dataset in a .csv file. Use it to complete all the activities in this notebook."
   ]
  },
  {
   "cell_type": "code",
   "execution_count": 34,
   "metadata": {},
   "outputs": [
    {
     "data": {
      "text/html": [
       "<div>\n",
       "<style scoped>\n",
       "    .dataframe tbody tr th:only-of-type {\n",
       "        vertical-align: middle;\n",
       "    }\n",
       "\n",
       "    .dataframe tbody tr th {\n",
       "        vertical-align: top;\n",
       "    }\n",
       "\n",
       "    .dataframe thead th {\n",
       "        text-align: right;\n",
       "    }\n",
       "</style>\n",
       "<table border=\"1\" class=\"dataframe\">\n",
       "  <thead>\n",
       "    <tr style=\"text-align: right;\">\n",
       "      <th></th>\n",
       "      <th>Country</th>\n",
       "      <th>Local</th>\n",
       "      <th>AUD</th>\n",
       "      <th>Date</th>\n",
       "    </tr>\n",
       "  </thead>\n",
       "  <tbody>\n",
       "    <tr>\n",
       "      <th>0</th>\n",
       "      <td>Britain</td>\n",
       "      <td>4.19</td>\n",
       "      <td>8.05</td>\n",
       "      <td>1/07/2023</td>\n",
       "    </tr>\n",
       "    <tr>\n",
       "      <th>1</th>\n",
       "      <td>Japan</td>\n",
       "      <td>450.00</td>\n",
       "      <td>4.52</td>\n",
       "      <td>1/07/2023</td>\n",
       "    </tr>\n",
       "    <tr>\n",
       "      <th>2</th>\n",
       "      <td>New Zealand</td>\n",
       "      <td>8.10</td>\n",
       "      <td>6.50</td>\n",
       "      <td>1/07/2023</td>\n",
       "    </tr>\n",
       "    <tr>\n",
       "      <th>3</th>\n",
       "      <td>United States</td>\n",
       "      <td>5.58</td>\n",
       "      <td>8.50</td>\n",
       "      <td>1/07/2023</td>\n",
       "    </tr>\n",
       "  </tbody>\n",
       "</table>\n",
       "</div>"
      ],
      "text/plain": [
       "         Country   Local   AUD       Date\n",
       "0        Britain    4.19  8.05  1/07/2023\n",
       "1          Japan  450.00  4.52  1/07/2023\n",
       "2    New Zealand    8.10  6.50  1/07/2023\n",
       "3  United States    5.58  8.50  1/07/2023"
      ]
     },
     "execution_count": 34,
     "metadata": {},
     "output_type": "execute_result"
    }
   ],
   "source": [
    "import pandas as pd\n",
    "\n",
    "#Read in the big_mac_aud.csv file and store it as big_mac_df. Add the headings 'Country', 'Local', 'AUD' and 'Date'\n",
    "big_mac = pd.read_csv('data/big_mac_aud.csv')\n",
    "\n",
    "#Output the big_mac_df\n",
    "big_mac.columns = ['Country', 'Local', 'AUD', 'Date']\n",
    "big_mac"
   ]
  },
  {
   "attachments": {},
   "cell_type": "markdown",
   "metadata": {},
   "source": [
    "## Add More Rows\n",
    "\n",
    "I want to add France to the above dataframe. The cost is 5.30 EUROs. You'll need to do the conversion for AUD.\n",
    "\n",
    "For information on how to add a row to a dataframe, read through the instructions on [How to Add New Rows to a Pandas Dataframe](https://saturncloud.io/blog/how-to-add-new-rows-to-a-pandas-dataframe/)\n",
    "\n",
    "**NOTE:** Inbetween each test, make sure to *Clear All Outputs* and *Run All* (options at the top of the screen)."
   ]
  },
  {
   "cell_type": "code",
   "execution_count": 35,
   "metadata": {},
   "outputs": [
    {
     "data": {
      "text/html": [
       "<div>\n",
       "<style scoped>\n",
       "    .dataframe tbody tr th:only-of-type {\n",
       "        vertical-align: middle;\n",
       "    }\n",
       "\n",
       "    .dataframe tbody tr th {\n",
       "        vertical-align: top;\n",
       "    }\n",
       "\n",
       "    .dataframe thead th {\n",
       "        text-align: right;\n",
       "    }\n",
       "</style>\n",
       "<table border=\"1\" class=\"dataframe\">\n",
       "  <thead>\n",
       "    <tr style=\"text-align: right;\">\n",
       "      <th></th>\n",
       "      <th>Country</th>\n",
       "      <th>Local</th>\n",
       "      <th>AUD</th>\n",
       "      <th>Date</th>\n",
       "    </tr>\n",
       "  </thead>\n",
       "  <tbody>\n",
       "    <tr>\n",
       "      <th>0</th>\n",
       "      <td>Britain</td>\n",
       "      <td>4.19</td>\n",
       "      <td>8.05</td>\n",
       "      <td>1/07/2023</td>\n",
       "    </tr>\n",
       "    <tr>\n",
       "      <th>1</th>\n",
       "      <td>Japan</td>\n",
       "      <td>450.00</td>\n",
       "      <td>4.52</td>\n",
       "      <td>1/07/2023</td>\n",
       "    </tr>\n",
       "    <tr>\n",
       "      <th>2</th>\n",
       "      <td>New Zealand</td>\n",
       "      <td>8.10</td>\n",
       "      <td>6.50</td>\n",
       "      <td>1/07/2023</td>\n",
       "    </tr>\n",
       "    <tr>\n",
       "      <th>3</th>\n",
       "      <td>United States</td>\n",
       "      <td>5.58</td>\n",
       "      <td>8.50</td>\n",
       "      <td>1/07/2023</td>\n",
       "    </tr>\n",
       "    <tr>\n",
       "      <th>4</th>\n",
       "      <td>france</td>\n",
       "      <td>5.30</td>\n",
       "      <td>8.54</td>\n",
       "      <td>1/07/2023</td>\n",
       "    </tr>\n",
       "  </tbody>\n",
       "</table>\n",
       "</div>"
      ],
      "text/plain": [
       "         Country   Local   AUD       Date\n",
       "0        Britain    4.19  8.05  1/07/2023\n",
       "1          Japan  450.00  4.52  1/07/2023\n",
       "2    New Zealand    8.10  6.50  1/07/2023\n",
       "3  United States    5.58  8.50  1/07/2023\n",
       "4         france    5.30  8.54  1/07/2023"
      ]
     },
     "execution_count": 35,
     "metadata": {},
     "output_type": "execute_result"
    }
   ],
   "source": [
    "#Create a new row as a dictionary called 'new_row'\n",
    "new_row = {'Country' : 'france', 'Local' : 5.30 , 'AUD' : 8.54, 'Date': '1/07/2023'}\n",
    "\n",
    "#Add the row to big_mac_df with either the append or loc function\n",
    "big_mac.loc[len(big_mac)] = new_row\n",
    "\n",
    "#Print the dataframe\n",
    "big_mac"
   ]
  },
  {
   "attachments": {},
   "cell_type": "markdown",
   "metadata": {},
   "source": [
    "## Write to .csv File\n",
    "Now that we've updated the data, let's write a new .csv file reflecting the changes. \n",
    "\n",
    "**NOTE:** It should not create multiple files if you keep running this, but just remember to *Clear All Outputs* inbetween each test to avoid adding France more than once. "
   ]
  },
  {
   "cell_type": "code",
   "execution_count": 36,
   "metadata": {},
   "outputs": [],
   "source": [
    "#Write the big_mac_df big_mac_update.csv in the data folder. Do not include indexes.\n",
    "big_mac.to_csv('data/new_bigmac.csv')"
   ]
  }
 ],
 "metadata": {
  "kernelspec": {
   "display_name": "Python 3",
   "language": "python",
   "name": "python3"
  },
  "language_info": {
   "codemirror_mode": {
    "name": "ipython",
    "version": 3
   },
   "file_extension": ".py",
   "mimetype": "text/x-python",
   "name": "python",
   "nbconvert_exporter": "python",
   "pygments_lexer": "ipython3",
   "version": "3.10.11 (tags/v3.10.11:7d4cc5a, Apr  5 2023, 00:38:17) [MSC v.1929 64 bit (AMD64)]"
  },
  "orig_nbformat": 4,
  "vscode": {
   "interpreter": {
    "hash": "ea5ece268758c75d79ecc2a0a04d4fa34a778f2de98ea4d4a76c0b9b8de58347"
   }
  }
 },
 "nbformat": 4,
 "nbformat_minor": 2
}
