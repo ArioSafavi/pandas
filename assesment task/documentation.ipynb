{
 "cells": [
  {
   "attachments": {},
   "cell_type": "markdown",
   "metadata": {},
   "source": [
    "# Documentation\n",
    "## Data Questions:\n",
    "### The data base:\n",
    "The data I am anylising is population growth rate from 1970 to 2022 by country\n",
    "### The purpouse:\n",
    "I am trying to find out which countries have the best growth rate and what those countries are doing differently to others.\n",
    "#### source and access:\n",
    "My source was kaggle\n",
    "link: https://www.kaggle.com/datasets/iamsouravbanerjee/world-population-dataset\n",
    "The data is a .CSV file so I will access it through CSV\n",
    "## Functional and Non-Fuctional requirments:\n",
    "**Functional requirments** \n",
    "For any of the following to work the user must first have the dataset downloaded.\n",
    "\n",
    "The progrm should be able to load csv files The input for this would be a button or the number 1 if any problems ocour when loading the data the program should state which component is missing. The program would then output the raw unfilterd data.\n",
    "\n",
    "The program should be able to filter components of the data at the users will. It should also be able to display the data without any uncessary components. This function would be run by the press of a button and or typing in the specific parts of data that are not needed.\n",
    "\n",
    "It should be able to present the mean median, mode and highest and lowest of any number set of the dataset and should be done via a button and or typing. The program would output a number showing the mean, median or mode in number format of the selected number set.\n",
    "\n",
    "The information is going to be visualised by matplotlib charts. This will be done by the user typing a number.\n",
    "\n",
    "The system outputs everything as a csv file or a matplotlib chart this is done by asking the user if they want to\n",
    "**Non-Functional requirments**\n",
    "The program should be able to be used by people with limited computer expieriance and should be easy and clear on all instructions. The program should be able to reliably open all programs images and not use up too much recources on he computer.\n",
    "\n",
    "The software should also be able to skip any missing values making sure that it does not crash and makes the program more reliable. The user does need to have the dataset downloaded to use the program along with pandas and matplotlib but other than that the user does not need anything.\n",
    "## The purpose of my project:\n"
   ]
  }
 ],
 "metadata": {
  "language_info": {
   "name": "python"
  },
  "orig_nbformat": 4
 },
 "nbformat": 4,
 "nbformat_minor": 2
}
