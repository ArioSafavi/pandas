{
 "cells": [
  {
   "attachments": {},
   "cell_type": "markdown",
   "metadata": {},
   "source": [
    "# Documentation\n",
    "## Data Questions\n",
    "### The data base\n",
    "The data I am anylising is population growth rate from 1970 to 2022 by country\n",
    "### The purpouse\n",
    "I am trying to find out which countries have the best growth rate and what those countries are doing differently to others.\n",
    "#### source and access\n",
    "My source was kaggle\n",
    "link: https://www.kaggle.com/datasets/iamsouravbanerjee/world-population-dataset\n",
    "The data is a .CSV file so I will access it through CSV\n",
    "## Functional and Non-Fuctional requirments\n",
    "**Functional requirments** \n",
    "should include being able to load csv files\n",
    "and should be able to filter components of the data at the users will.\n",
    "It should be able to present the mean median and mode of any number set of the dataset\n",
    "and should also be able to filter out the mean median and mode of specific catagories of the data.\n",
    "The data is going to be visualised by matplotlib charts. \n",
    "The system outputs everything as a csv file.\n"
   ]
  }
 ],
 "metadata": {
  "language_info": {
   "name": "python"
  },
  "orig_nbformat": 4
 },
 "nbformat": 4,
 "nbformat_minor": 2
}
