{
 "cells": [
  {
   "attachments": {},
   "cell_type": "markdown",
   "metadata": {},
   "source": [
    "# Documentation\n",
    "## Data Questions:\n",
    "### The data base:\n",
    "The data I am anylising is population growth rate from 1970 to 2022 by country\n",
    "### The purpouse:\n",
    "I am trying to find out which countries have the best growth rate and what those countries are doing differently to others.\n",
    "#### source and access:\n",
    "My source was kaggle\n",
    "link: https://www.kaggle.com/datasets/iamsouravbanerjee/world-population-dataset\n",
    "The data is a .CSV file so I will access it through CSV\n",
    "## Functional and Non-Fuctional requirments:\n",
    "**Functional requirments** \n",
    "For any of the following to work the user must first have the dataset downloaded.\n",
    "\n",
    "Data Loading: The progrm should be able to load csv files The input for this would be a button or the number 1 if any problems ocour when loading the data the program should state which component is missing. The program would then output the raw unfilterd data.\n",
    "\n",
    "Data Cleaning: The program should be able to filter components of the data at the users will. It should also be able to display the data without any uncessary components. This will be done in each function as neccaecary\n",
    "\n",
    "Data Analysis: It should be able to present the mean median, mode and highest and lowest of any number set of the dataset and should be done via a button and or typing. The program would output a number showing the mean, median or mode in number format of the selected number set.\n",
    "\n",
    "Data Visualisation: The information is going to be visualised by matplotlib charts. This will be done by the user typing a number. \n",
    "\n",
    "Data Reporting: The system outputs everything as a csv file or a matplotlib chart this is done by asking the user if they want to quit and save.\n",
    "\n",
    "**Non-Functional requirments**\n",
    "The program should be able to be used by people with limited computer expieriance and should be easy and clear on all instructions. The program should be able to reliably open all programs images and not use up too much recources on he computer.\n",
    "\n",
    "The software should also be able to skip any missing values making sure that it does not crash and makes the program more reliable. The user does need to have the dataset downloaded to use the program along with pandas and matplotlib but other than that the user does not need anything.\n",
    "## Use Cases\n",
    "\n",
    "\n",
    "\n",
    "\n",
    "\n",
    "## Reaserch and Planning:\n",
    "**Purpose:**\n",
    "\n",
    "I am trying to find out how the population of developed countries and developing countries decreases or increases and wether these two have any colloration. This is important as it could show the implementations that are not working in countries.\n",
    "\n",
    "**Missing Data:**\n",
    "\n",
    "missing data\n",
    "\n",
    "1. Developed countries are countries that have already been industrialzed, have high standards of living and have strong economic growth.\n",
    "2. developing countries are not industrialized have lower standards of living and weak economic growth."
   ]
  }
 ],
 "metadata": {
  "kernelspec": {
   "display_name": "Python 3",
   "language": "python",
   "name": "python3"
  },
  "language_info": {
   "name": "python",
   "version": "3.10.11 (tags/v3.10.11:7d4cc5a, Apr  5 2023, 00:38:17) [MSC v.1929 64 bit (AMD64)]"
  },
  "orig_nbformat": 4,
  "vscode": {
   "interpreter": {
    "hash": "ea5ece268758c75d79ecc2a0a04d4fa34a778f2de98ea4d4a76c0b9b8de58347"
   }
  }
 },
 "nbformat": 4,
 "nbformat_minor": 2
}
